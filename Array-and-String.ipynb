{
 "cells": [
  {
   "cell_type": "markdown",
   "metadata": {},
   "source": [
    "# Array and String"
   ]
  },
  {
   "cell_type": "code",
   "execution_count": 1,
   "metadata": {},
   "outputs": [],
   "source": [
    "import numpy as np"
   ]
  },
  {
   "cell_type": "markdown",
   "metadata": {},
   "source": [
    "### Find Pivot Index\n",
    "Given an array of integers nums, write a method that returns the \"pivot\" index of this array.\n",
    "\n",
    "We define the pivot index as the index where the sum of the numbers to the left of the index is equal to the sum of the numbers to the right of the index.\n",
    "\n",
    "If no such index exists, we should return ***-1***. If there are multiple pivot indexes, you should return the ***left-most*** pivot index.\n",
    "\n",
    "### Note:\n",
    "1. The length of nums will be in the range `[0, 10000]`.\n",
    "2. Each element `nums[i]` will be an integer in the range `[-1000, 1000]`."
   ]
  },
  {
   "cell_type": "code",
   "execution_count": 61,
   "metadata": {},
   "outputs": [],
   "source": [
    "# try\n",
    "def pivotIndex(nums):\n",
    "        S = sum(nums)\n",
    "        leftsum = 0\n",
    "        \n",
    "        # requires at least 3 elements to fulfill the condition\n",
    "        if len(nums) <= 2:\n",
    "            return -1\n",
    "        \n",
    "        # since we should return the left-most index if many, we start from 0 index.\n",
    "        for i in range(len(nums)):\n",
    "            if 2*leftsum == (S - nums[i]):\n",
    "                return i\n",
    "            leftsum += nums[i]\n",
    "        return -1"
   ]
  },
  {
   "cell_type": "code",
   "execution_count": 84,
   "metadata": {},
   "outputs": [
    {
     "name": "stdout",
     "output_type": "stream",
     "text": [
      "6127 True\n"
     ]
    }
   ],
   "source": [
    "# test\n",
    "i = np.random.randint(0, 10001, size = 1)\n",
    "nums = np.random.randint(-1000, 1000, size = i)\n",
    "\n",
    "print(pivotIndex(nums), (sum(nums[:pivotIndex(nums)]) == sum(nums[pivotIndex(nums)+1:])))"
   ]
  },
  {
   "cell_type": "markdown",
   "metadata": {},
   "source": [
    "### Largetst Number At Least Twice of Others\n",
    "In a given integer array nums, there is always exactly one largest element.\n",
    "\n",
    "Find whether the largest element in the array is at least twice as much as every other number in the array.\n",
    "\n",
    "If it is, return the index of the largest element, otherwise return -1.\n",
    "\n",
    "##### Example 1:\n",
    "```\n",
    "Input: nums = [3, 6, 1, 0]\n",
    "Output: 1\n",
    "Explanation: 6 is the largest integer, and for every other number in the array x,\n",
    "6 is more than twice as big as x.  The index of value 6 is 1, so we return 1.\n",
    "```\n",
    "\n",
    "##### Example 2:\n",
    "```\n",
    "Input: nums = [1, 2, 3, 4]\n",
    "Output: -1\n",
    "Explanation: 4 isn't at least as big as twice the value of 3, so we return -1.\n",
    "```\n",
    "\n",
    "### Note:\n",
    "1. nums will have a length in the range [1, 50].\n",
    "2. Every nums[i] will be an integer in the range [0, 99]."
   ]
  },
  {
   "cell_type": "code",
   "execution_count": 58,
   "metadata": {},
   "outputs": [],
   "source": [
    "def dominantIndex(nums):\n",
    "    # if there's only 1 number, index 0 will be the maximum\n",
    "    if len(nums) == 1:\n",
    "        return 0\n",
    "    \n",
    "    first_index = 0\n",
    "    first = -1\n",
    "    second = -1\n",
    "    \n",
    "    for i, j in enumerate(nums):\n",
    "        if j >= first:\n",
    "            second = first\n",
    "            first = j\n",
    "            first_index = i\n",
    "        elif j > second:\n",
    "            second = j\n",
    "            \n",
    "    if first < 2*second:\n",
    "        first_index = -1\n",
    "    return first_index        "
   ]
  },
  {
   "cell_type": "code",
   "execution_count": 57,
   "metadata": {},
   "outputs": [
    {
     "data": {
      "text/plain": [
       "1"
      ]
     },
     "execution_count": 57,
     "metadata": {},
     "output_type": "execute_result"
    }
   ],
   "source": [
    "nums = [3, 6, 1, 0]\n",
    "\n",
    "dominantIndex(nums)"
   ]
  },
  {
   "cell_type": "markdown",
   "metadata": {},
   "source": [
    "### Plus One\n",
    "Given a non-empty array of digits representing a non-negative integer, plus one to the integer.\n",
    "\n",
    "The digits are stored such that the most significant digit is at the head of the list, and each element in the array contain a single digit.\n",
    "\n",
    "You may assume the integer does not contain any leading zero, except the number 0 itself.\n",
    "\n",
    "##### Example 1:\n",
    "```\n",
    "Input: [1,2,3]\n",
    "Output: [1,2,4]\n",
    "Explanation: The array represents the integer 123.\n",
    "```\n",
    "\n",
    "##### Example 2:\n",
    "```\n",
    "Input: [4,3,2,1]\n",
    "Output: [4,3,2,2]\n",
    "Explanation: The array represents the integer 4321.\n",
    "```"
   ]
  },
  {
   "cell_type": "code",
   "execution_count": 30,
   "metadata": {},
   "outputs": [],
   "source": [
    "def plusOne(digits):\n",
    "    pointer = len(digits) - 1    # count from right-most index\n",
    "    while digits[pointer] == 9:  \n",
    "        digits[pointer] = 0\n",
    "        pointer -= 1             # move pointer one unit left\n",
    "    if(pointer < 0):             # if we are given with single-element array\n",
    "        digits = [1] + digits\n",
    "    else:\n",
    "        digits[pointer] += 1\n",
    "    return digits"
   ]
  },
  {
   "cell_type": "code",
   "execution_count": 33,
   "metadata": {},
   "outputs": [
    {
     "data": {
      "text/plain": [
       "[2, 5, 2, 8, 9, 7, 9, 3, 2, 0, 0]"
      ]
     },
     "execution_count": 33,
     "metadata": {},
     "output_type": "execute_result"
    }
   ],
   "source": [
    "digits = [2,5,2,8,9,7,9,3,1,9,9]\n",
    "plusOne(digits)"
   ]
  },
  {
   "cell_type": "code",
   "execution_count": 39,
   "metadata": {},
   "outputs": [],
   "source": [
    "# recursion (from soln)\n",
    "def plusOne(digits):\n",
    "        if digits == []:\n",
    "            return [1]\n",
    "        if digits[-1] == 9:\n",
    "            return plusOne(digits[:-1]) + [0]\n",
    "        return digits[:-1] + [digits[-1] + 1]"
   ]
  },
  {
   "cell_type": "code",
   "execution_count": null,
   "metadata": {},
   "outputs": [],
   "source": []
  }
 ],
 "metadata": {
  "kernelspec": {
   "display_name": "Python 3",
   "language": "python",
   "name": "python3"
  },
  "language_info": {
   "codemirror_mode": {
    "name": "ipython",
    "version": 3
   },
   "file_extension": ".py",
   "mimetype": "text/x-python",
   "name": "python",
   "nbconvert_exporter": "python",
   "pygments_lexer": "ipython3",
   "version": "3.6.8"
  }
 },
 "nbformat": 4,
 "nbformat_minor": 2
}
