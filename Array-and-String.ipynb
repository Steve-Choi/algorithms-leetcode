{
 "cells": [
  {
   "cell_type": "markdown",
   "metadata": {},
   "source": [
    "# Array and String"
   ]
  },
  {
   "cell_type": "code",
   "execution_count": 1,
   "metadata": {},
   "outputs": [],
   "source": [
    "import numpy as np"
   ]
  },
  {
   "cell_type": "markdown",
   "metadata": {},
   "source": [
    "### Find Pivot Index\n",
    "Given an array of integers nums, write a method that returns the \"pivot\" index of this array.\n",
    "\n",
    "We define the pivot index as the index where the sum of the numbers to the left of the index is equal to the sum of the numbers to the right of the index.\n",
    "\n",
    "If no such index exists, we should return ***-1***. If there are multiple pivot indexes, you should return the ***left-most*** pivot index.\n",
    "\n",
    "### Note:\n",
    "- The length of nums will be in the range `[0, 10000]`.\n",
    "- Each element `nums[i]` will be an integer in the range `[-1000, 1000]`."
   ]
  },
  {
   "cell_type": "code",
   "execution_count": 61,
   "metadata": {},
   "outputs": [],
   "source": [
    "# try\n",
    "def pivotIndex(nums):\n",
    "        S = sum(nums)\n",
    "        leftsum = 0\n",
    "        \n",
    "        # requires at least 3 elements to fulfill the condition\n",
    "        if len(nums) <= 2:\n",
    "            return -1\n",
    "        \n",
    "        # since we should return the left-most index if many, we start from 0 index.\n",
    "        for i in range(len(nums)):\n",
    "            if 2*leftsum == (S - nums[i]):\n",
    "                return i\n",
    "            leftsum += nums[i]\n",
    "        return -1"
   ]
  },
  {
   "cell_type": "code",
   "execution_count": 84,
   "metadata": {},
   "outputs": [
    {
     "name": "stdout",
     "output_type": "stream",
     "text": [
      "6127 True\n"
     ]
    }
   ],
   "source": [
    "# test\n",
    "i = np.random.randint(0, 10001, size = 1)\n",
    "nums = np.random.randint(-1000, 1000, size = i)\n",
    "\n",
    "print(pivotIndex(nums), (sum(nums[:pivotIndex(nums)]) == sum(nums[pivotIndex(nums)+1:])))"
   ]
  },
  {
   "cell_type": "code",
   "execution_count": null,
   "metadata": {},
   "outputs": [],
   "source": []
  },
  {
   "cell_type": "code",
   "execution_count": null,
   "metadata": {},
   "outputs": [],
   "source": []
  },
  {
   "cell_type": "code",
   "execution_count": null,
   "metadata": {},
   "outputs": [],
   "source": []
  },
  {
   "cell_type": "code",
   "execution_count": 20,
   "metadata": {},
   "outputs": [],
   "source": []
  },
  {
   "cell_type": "code",
   "execution_count": null,
   "metadata": {},
   "outputs": [],
   "source": []
  },
  {
   "cell_type": "code",
   "execution_count": null,
   "metadata": {},
   "outputs": [],
   "source": []
  }
 ],
 "metadata": {
  "kernelspec": {
   "display_name": "Python 3",
   "language": "python",
   "name": "python3"
  },
  "language_info": {
   "codemirror_mode": {
    "name": "ipython",
    "version": 3
   },
   "file_extension": ".py",
   "mimetype": "text/x-python",
   "name": "python",
   "nbconvert_exporter": "python",
   "pygments_lexer": "ipython3",
   "version": "3.6.8"
  }
 },
 "nbformat": 4,
 "nbformat_minor": 2
}
